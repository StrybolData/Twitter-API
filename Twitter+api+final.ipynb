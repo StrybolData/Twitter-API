{
 "cells": [
  {
   "cell_type": "markdown",
   "metadata": {},
   "source": [
    "# Twitter Text Sentiment Analyser "
   ]
  },
  {
   "cell_type": "code",
   "execution_count": 1,
   "metadata": {
    "collapsed": true
   },
   "outputs": [],
   "source": [
    "import tweepy\n",
    "import csv\n",
    "\n",
    "CONSUMER_KEY= '############'\n",
    "CONSUMER_SECRET = '########'\n",
    "ACCESS_KEY = '########'\n",
    "ACCESS_SECRET = '######'\n",
    "auth = tweepy.OAuthHandler(CONSUMER_KEY, CONSUMER_SECRET)\n",
    "auth.set_access_token(ACCESS_KEY, ACCESS_SECRET)\n",
    "\n",
    "api = tweepy.API(auth)\n",
    "\n",
    "def read_keywords_label(csv_in):\n",
    "    keyword_label_list = []\n",
    "    with open(csv_in,'r') as csvfile:\n",
    "        reader = csv.reader(csvfile, delimiter=',')\n",
    "        for row in reader:\n",
    "            keyword_label_list.append( (row[0], row[1]))\n",
    "    return keyword_label_list\n",
    "\n",
    "\n",
    "def get_tweets(keyword, tweet_num):\n",
    "    tweets_out = []\n",
    "    tweets = tweepy.Cursor(api.search, q=keyword,result_type=\"recent\",include_entities=True, lang=\"en\").items(tweet_num)\n",
    "    for tweet in tweets:\n",
    "        tweets_out.append(tweet.text)\n",
    "    return tweets_out\n",
    "\n",
    "\n",
    "def get_labeled_tweets(keyword, label, tweets_per_keyword):\n",
    "    labeled_tweets = []\n",
    "    unlabeled_tweets = get_tweets(keyword, tweets_per_keyword)\n",
    "    for tweet in unlabeled_tweets:\n",
    "        labeled_tweets.append( (label, tweet))\n",
    "    return labeled_tweets\n",
    "\n",
    "\n",
    "def build_test_data(keywords_label_file_in, tweets_per_keyword):\n",
    "    keywords_label = read_keywords_label(keywords_label_file_in)\n",
    "    test_data = []\n",
    "    for pair in keywords_label:\n",
    "        labeled_tweets = get_labeled_tweets(pair[0], pair[1], tweets_per_keyword)\n",
    "        test_data.extend(labeled_tweets)\n",
    "    return test_data\n",
    "\n",
    "\n",
    "import numpy as np\n",
    "from sklearn.feature_extraction.text import TfidfVectorizer\n",
    "from sklearn.naive_bayes import MultinomialNB\n",
    "from sklearn.pipeline import make_pipeline\n",
    "\n",
    "\n",
    "\n",
    "def build_sentiment_model(keywords_label_file_in, tweets_per_keyword):\n",
    "    test_data = build_test_data(keywords_label_file_in, tweets_per_keyword)\n",
    "    train_target = [x[0] for x in test_data]\n",
    "    train_data = [x[1] for x in test_data]\n",
    "    model = make_pipeline(TfidfVectorizer(), MultinomialNB())\n",
    "    model.fit(train_data, train_target)\n",
    "    return model\n",
    "\n",
    "def predict_category(model_in, text_in):\n",
    "    labels = model_in.predict([text_in])\n",
    "    return labels\n",
    "    "
   ]
  },
  {
   "cell_type": "code",
   "execution_count": 6,
   "metadata": {},
   "outputs": [
    {
     "data": {
      "text/plain": [
       "[('Bullish', '@Drewscilla_ I love learning #yay'),\n",
       " ('Bullish',\n",
       "  'RT @HeatherHadford: I love that our Superintendent is IN the teaching and learning WITH US. @GBProbeSchool @LethSD51 #vulnerableleadershipm…'),\n",
       " ('Bullish',\n",
       "  'but translations do help in improving and learning new vocabulary so I would love to do more but please bear with m… https://t.co/TKwpastr1Y'),\n",
       " ('Bullish',\n",
       "  'RT @NjSatz: #Happybirthdaymycinemaguru \\nI learn many things from you.Still learning #godbless #stayhealthy \\n@SasikumarDir love you sir 😍😍😍🙏…'),\n",
       " ('Bullish',\n",
       "  'I love that our Superintendent is IN the teaching and learning WITH US. @GBProbeSchool @LethSD51… https://t.co/IEBl0mqklx'),\n",
       " ('Bullish',\n",
       "  '@ShaneFilan I help out at a centre for people with Learning Difficulties. A guy called Jamie that goes there would love your autograph.'),\n",
       " ('Bullish',\n",
       "  'I love learning the assignment material after the assignment is due thx'),\n",
       " ('Bullish',\n",
       "  \"RT @Oliveemodi: Most importantly, I learned and I'm still learning LOVE. Forgiving someone who hurt you is deep, it takes a lot of strength…\"),\n",
       " ('Bullish',\n",
       "  \"RT @_LowkeyAssPURP: I'm older &amp; I'm still learning about love everyday 💯\"),\n",
       " ('Bullish',\n",
       "  'i am slowly learning that some people are not good for me, no matter how much i love them😪')]"
      ]
     },
     "execution_count": 6,
     "metadata": {},
     "output_type": "execute_result"
    }
   ],
   "source": [
    "get_labeled_tweets('I love learning', 'Bullish', 10)"
   ]
  },
  {
   "cell_type": "code",
   "execution_count": 3,
   "metadata": {},
   "outputs": [
    {
     "data": {
      "text/plain": [
       "[('bullish',\n",
       "  'I love how my iPhone or 2 hours of battery life coincidentally right when the new iPhones release'),\n",
       " ('bullish',\n",
       "  'My new iPhone is pink and I love it mostly because I feel like a 21st century princess when I get it out on the tube 😇💅🏻💕 #bejel'),\n",
       " ('bullish',\n",
       "  \"Sorry @Apple I love you but I'm not gonna buy a 1150€ emoji machine when I can buy a 500€ iPhone 7 (Btw my iPhone 6 works like new so nope)\"),\n",
       " ('bullish',\n",
       "  \"my gradmas just text me to say she's 'treated herself' and got the new iphone, bloody love that woman\"),\n",
       " ('bullish',\n",
       "  'My preggy gajah just got her new iphone. Love you gajah @OhEfjeeeek'),\n",
       " ('bullish', 'love the new update on my Iphone...'),\n",
       " ('bullish',\n",
       "  'RT @WildflowerCases: Thinking about buying Turquoise iPhone 6/6s Case? Read our latest review of the p https://t.co/iboZmTCvSq via @yotpo'),\n",
       " ('bullish',\n",
       "  'I love how the new iPhone update won’t show my Spotify in my lock screen even though I have that setting turned on.🙄'),\n",
       " ('bullish', 'Love love loving my new iPhone 8 plus 😍 #newphone #apple'),\n",
       " ('bullish',\n",
       "  'RT @mairelyurias: love how my iPhone coincidentally starts to act up when there is a new iPhone released'),\n",
       " ('bearish',\n",
       "  \"@HondaCustSvc Help! 30-year Accord owner. No probs ever. iPhone8+, Honda Bluetooth HATE each other. Constant disconnects. At wit's end here.\"),\n",
       " ('bearish',\n",
       "  \"RT @deaddilf69: Can I just say that I hate iOS11 and iPhone8 they're trash. My iPhone 5s was so much faster and more responsive\"),\n",
       " ('bearish',\n",
       "  \"Can I just say that I hate iOS11 and iPhone8 they're trash. My iPhone 5s was so much faster and more responsive\"),\n",
       " ('bearish',\n",
       "  'Haven’t even had my iPhone8 for 3 hours and I’ve already dropped it twice.. I hate myself'),\n",
       " ('bearish',\n",
       "  'RT @hhs_in: 8 years on Twitter still blessed not to be followed by our PM shows I don’t hate lynch follow the lotus Thanks to friends #iPho…'),\n",
       " ('bearish',\n",
       "  'Hate to be that person but I really like the song on the new #iphone8 advert'),\n",
       " ('bearish',\n",
       "  '@AmazonHelp @hate_amit And where is the winner for iphone8 contest'),\n",
       " ('bearish',\n",
       "  'RT @tkyess: Bruh I hate people!💀💀💀 #iphone8 @tazzjeffersonn https://t.co/4KH7Y1hnYX'),\n",
       " ('bearish',\n",
       "  'The only thing Ima really hate about this iPhone8 is I can’t charge my phone and be have aux at the same time not use to this shit 😡'),\n",
       " ('bearish',\n",
       "  'RT @tkyess: Bruh I hate people!💀💀💀 #iphone8 @tazzjeffersonn https://t.co/4KH7Y1hnYX'),\n",
       " ('neutral',\n",
       "  '@2kDaft goku is a good name ok, my Steve jobs blessed iPhone autocorrected it to “holy” so you tell me if my device is wrong 👀'),\n",
       " ('neutral',\n",
       "  '@Mhodge54 Bruh my video quality is insane and ok facetime we have our own facetime but design? IPhone dont come close to the infinty screen'),\n",
       " ('neutral',\n",
       "  '@MGTCI @MGTSentinel OK! It is happening people. This could be the iPhone of network security. No kidding.'),\n",
       " ('neutral',\n",
       "  \"RT @ppk: OK, to recapitulate:\\n- on iPhone X safe-area-inset-left is 44px with viewport-fit=cover; 0px without it.\\n- on iPhone 8 it's 0px, w…\"),\n",
       " ('neutral',\n",
       "  'Ok, I need feedback on the iPhone 8... is it worth going and getting?!?'),\n",
       " ('neutral',\n",
       "  \"RT @ppk: OK, to recapitulate:\\n- on iPhone X safe-area-inset-left is 44px with viewport-fit=cover; 0px without it.\\n- on iPhone 8 it's 0px, w…\"),\n",
       " ('neutral',\n",
       "  'OK, to recapitulate:\\n- on iPhone X safe-area-inset-left is 44px with viewport-fit=cover; 0px without it.\\n- on iPhon… https://t.co/dkQMrGpEaa'),\n",
       " ('neutral',\n",
       "  '@soulchaserbecky @Valnir_Rok @steam_games Does the interview display ok for you? Viewing it on my iPhone, much of the text is missing.'),\n",
       " ('neutral',\n",
       "  'Ok wait. This is my first iPhone. Is that conspiracy true about how iPhones start messing up after a new one comes out 🤔 ?¿'),\n",
       " ('neutral',\n",
       "  'RT @chuckwilliams37: @Nitego29 @CashAlternative @Dashpay @DashForceNews @ConnectEconomy @DashNation_com @dashcaracas @AmandaB_Johnson @dash…'),\n",
       " ('bullish',\n",
       "  'This iPhone 8 is great I can really see how unattractive I am now with this fancy camera.'),\n",
       " ('bullish',\n",
       "  \"RT @hbkirb: oh man this is great. “How Silicon Valley Reacts to Apple's iPhone X” https://t.co/62ZyTQoZVw\"),\n",
       " ('bullish',\n",
       "  'How Apple is managing the iPhone buying dilemma https://t.co/730kpOpwII via @macworld - great reporting as always @jsnell'),\n",
       " ('bullish',\n",
       "  'RT @RealAdamRose: the iphone takes a great picture and our dog is super cute. https://t.co/itEHllhoV2'),\n",
       " ('bullish',\n",
       "  'RT @HighTechDad: Got a new #iPhone or #Note8? While your #smartphone is great, you might not be getting the Best Digital Experience! https:…'),\n",
       " ('bullish',\n",
       "  'Got a new #iPhone or #Note8? While your #smartphone is great, you might not be getting the Best Digital Experience!… https://t.co/Tc1nTYQRlo'),\n",
       " ('bullish',\n",
       "  \"When the drive for a new iPhone is too great, you get fired. https://t.co/mDTYM3rb7j - I'm crying\"),\n",
       " ('bullish',\n",
       "  \"RT @hbkirb: oh man this is great. “How Silicon Valley Reacts to Apple's iPhone X” https://t.co/62ZyTQoZVw\"),\n",
       " ('bullish',\n",
       "  'When the drive for a new iPhone is too great, you get fired. https://t.co/1oxknVsf3b'),\n",
       " ('bullish',\n",
       "  '@donkee2001 You can use whatever camera works best for your needs, but an iPhone is usually a great starting camera… https://t.co/uo5UMeIIO3'),\n",
       " ('bearish', 'iPhone is really boring'),\n",
       " ('bearish', '@sominsns i know, iphone emoji is boring 🙃'),\n",
       " ('bearish',\n",
       "  'Whenever I pick up an #iphone to use it, I love it, but then I realize just how boring and restricted it is. #goandroid #androidrocks'),\n",
       " ('bearish',\n",
       "  'RT @theMrMobile: I know: the iPhone 8 is \"the boring one.\" But its camera ALONE is reason enough to see past the looks. Review Pt 1:\\n\\nhttps…'),\n",
       " ('bearish',\n",
       "  '@spiritbor3d The only thing you got right is the gold iPhone. And mine is the gold 8 because the black was ugly and the silver was boring.'),\n",
       " ('bearish',\n",
       "  'Really boring tweet alert but the battery life on the iPhone 8 Plus is 👌 still on 70% after using it since 5.30am'),\n",
       " ('bearish',\n",
       "  \"Now that crazy 8's is available to play on the iPhone, work will be a little less boring today\"),\n",
       " ('bearish',\n",
       "  'RT @GIRLSBEGlRLS: I own an Note 3 right now but android OS is getting boring so im planning to buy iphone 6s or just Vivo or Oppo. Idek lma…'),\n",
       " ('bearish',\n",
       "  'I own an Note 3 right now but android OS is getting boring so im planning to buy iphone 6s or just Vivo or Oppo. Idek lmaooo'),\n",
       " ('bearish',\n",
       "  '@VenyaGeskin1 iPhone really needs multiple window tasking. This one app at a time is really boring. It seriously needs PIP on maps + YouTube'),\n",
       " ('neutral',\n",
       "  'I think the new IPhone 8 plus portrait mode could still be better.   Maybe the wall and my head confuses it!… https://t.co/CnT7cHiWAa'),\n",
       " ('neutral',\n",
       "  'RT @Loci_io: Concerned about the price of the iPhone 8 &amp; iPhone X? Your money could be better spent for a membership to our patent platform…'),\n",
       " ('neutral',\n",
       "  'Just looking through the CycleStreets app , photo handling could be better, allowing pinch/zoom on iPhone 🤔 https://t.co/igbg84Gk5q'),\n",
       " ('neutral',\n",
       "  'I used to be a lame with an iPhone who thought nothing could beat it until I got a galaxy. So much better.'),\n",
       " ('neutral',\n",
       "  'The iPhone 8 specs could be better though https://t.co/ifmT30pBR2'),\n",
       " ('neutral',\n",
       "  '@lee_eyres Oh I see, yes.It implies I’m better than an eight at procrastinating, more of a 10 but it could be rewor… https://t.co/Xz5kGWqoMI'),\n",
       " ('neutral',\n",
       "  '@DeletionMapping @TheAVClub The only way it could be better? A brand new iPhone 8.'),\n",
       " ('neutral',\n",
       "  \"RT @simpso0: By adding North Korea and Venezuela to list, US President's travel ban stands better chance. https://t.co/cxPC3RzoyE\"),\n",
       " ('neutral',\n",
       "  \"By adding North Korea and Venezuela to list, US President's travel ban stands better chance. https://t.co/cxPC3RzoyE\"),\n",
       " ('neutral',\n",
       "  'Make sure you know to do this! It is better to be safe than sorry. This simple trick could save your life in the... https://t.co/zaNE61zjJx')]"
      ]
     },
     "execution_count": 3,
     "metadata": {},
     "output_type": "execute_result"
    }
   ],
   "source": [
    "build_test_data('sentiments.csv',10)"
   ]
  },
  {
   "cell_type": "code",
   "execution_count": 4,
   "metadata": {
    "collapsed": true
   },
   "outputs": [],
   "source": [
    "my_model= build_sentiment_model('sentiments.csv',10)"
   ]
  },
  {
   "cell_type": "code",
   "execution_count": 8,
   "metadata": {},
   "outputs": [
    {
     "data": {
      "text/plain": [
       "array(['bullish'],\n",
       "      dtype='<U7')"
      ]
     },
     "execution_count": 8,
     "metadata": {},
     "output_type": "execute_result"
    }
   ],
   "source": [
    "predict_category(my_model, 'Iphone 8')"
   ]
  },
  {
   "cell_type": "code",
   "execution_count": null,
   "metadata": {
    "collapsed": true
   },
   "outputs": [],
   "source": []
  }
 ],
 "metadata": {
  "kernelspec": {
   "display_name": "Python 3",
   "language": "python",
   "name": "python3"
  },
  "language_info": {
   "codemirror_mode": {
    "name": "ipython",
    "version": 3
   },
   "file_extension": ".py",
   "mimetype": "text/x-python",
   "name": "python",
   "nbconvert_exporter": "python",
   "pygments_lexer": "ipython3",
   "version": "3.6.2"
  }
 },
 "nbformat": 4,
 "nbformat_minor": 2
}
